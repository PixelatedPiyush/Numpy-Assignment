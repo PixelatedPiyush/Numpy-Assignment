{
 "cells": [
  {
   "cell_type": "markdown",
   "id": "c425d52c-1999-4e2c-8651-73fdd35c7cf8",
   "metadata": {},
   "source": [
    "# Theoretical Questions:"
   ]
  },
  {
   "cell_type": "markdown",
   "id": "f9814b85-65ee-4242-a41d-9d4c2aa84ab3",
   "metadata": {},
   "source": [
    "## 1. Explain the purpose and advantages of NumPy in scientific computing and data analysis. How does it enhance Python's capabilities for numerical operations?"
   ]
  },
  {
   "cell_type": "markdown",
   "id": "31726913-b5bb-4135-9505-0558b022663e",
   "metadata": {},
   "source": [
    "### The Purpose and Advantages of NumPy in Scientific Computing and Data Analysis\n",
    "\n",
    "NumPy (Numerical Python) is a fundamental library for scientific computing and data analysis in Python. It provides an efficient and powerful way to handle large, multi-dimensional arrays of numerical data, significantly enhancing Python's capabilities for numerical operations.\n",
    "\n",
    "#### Purpose of NumPy:\n",
    "\n",
    "The primary purpose of NumPy is to offer an optimized way to perform numerical computations on vast datasets. While Python's built-in lists can store collections of data, they are not designed for high-performance numerical operations on large arrays. NumPy addresses this by providing:\n",
    "\n",
    "* **N-dimensional Array Object (`ndarray`):** At its core, NumPy introduces the `ndarray`, a homogeneous, fixed-size array that stores elements of the same data type. Unlike Python lists, `ndarrays` are stored contiguously in memory, enabling highly efficient operations.\n",
    "* **Mathematical Functions:** A comprehensive collection of mathematical functions is available, allowing element-wise operations on arrays. This includes trigonometric, logarithmic, exponential, statistical, and many other functions.\n",
    "* **Linear Algebra Routines:** NumPy provides efficient implementations of essential linear algebra operations, such as dot products, matrix multiplication, decompositions (e.g., SVD, LU), and solvers for systems of linear equations.\n",
    "* **Fourier Transforms:** It includes modules for performing Fast Fourier Transforms (FFTs) and related operations, which are crucial for signal processing and spectral analysis.\n",
    "* **Random Number Generation:** Powerful tools for generating various types of random numbers are provided, which are indispensable for simulations, statistical modeling, and machine learning.\n",
    "\n",
    "### Advantages of NumPy:\n",
    "\n",
    "#### 1. Performance:\n",
    "\n",
    "* **Vectorization:** NumPy operations are implemented in C and Fortran, leading to highly optimized, vectorized computations. This means operations are applied to entire arrays at once, drastically outperforming Python's native loops for numerical tasks.\n",
    "* **Memory Efficiency:** `ndarrays` consume less memory than equivalent Python lists because they store homogeneous data types and have a fixed size, leading to better memory management.\n",
    "\n",
    "#### 2. Expressiveness and Conciseness:\n",
    "\n",
    "* NumPy's array-oriented syntax allows you to express complex mathematical operations with concise and readable code. For example, adding two arrays `a + b` is far simpler and faster than iterating through elements with a `for` loop in Python.\n",
    "\n",
    "#### 3. Foundation for Other Libraries:\n",
    "\n",
    "* NumPy serves as the bedrock for many other prominent scientific computing and data analysis libraries in the Python ecosystem, including:\n",
    "    * **Pandas:** Leverages NumPy arrays internally for its DataFrame and Series objects.\n",
    "    * **SciPy:** Builds upon NumPy to provide more advanced scientific and technical computing functionalities (optimization, interpolation, signal processing, image processing, etc.).\n",
    "    * **Matplotlib:** Uses NumPy arrays extensively for plotting data.\n",
    "    * **Scikit-learn:** Relies heavily on NumPy arrays for representing data and performing machine learning algorithms.\n",
    "    * **Deep Learning Frameworks (TensorFlow/PyTorch):** While they have their own tensor objects, the concepts of vectorized operations and array manipulation are heavily influenced by NumPy.\n",
    "\n",
    "#### 4. Broadcasting:\n",
    "\n",
    "* NumPy's broadcasting mechanism enables operations between arrays of different shapes, provided they are compatible. This simplifies code and eliminates the need for explicit loops or tiling operations in many cases.\n",
    "\n",
    "#### 5. C/C++ and Fortran Integration:\n",
    "\n",
    "* NumPy offers mechanisms to integrate with existing high-performance C/C++ and Fortran codebases, allowing users to leverage optimized legacy code.\n",
    "\n",
    "### How NumPy Enhances Python's Capabilities for Numerical Operations:\n",
    "\n",
    "Python, as a general-purpose programming language, offers great readability and rapid development. However, its native data structures (like lists) and interpreted loops can be slow for computationally intensive numerical tasks. NumPy significantly enhances Python's capabilities by:\n",
    "\n",
    "1.  **Overcoming the \"Python Loop Problem\":** NumPy's vectorized operations execute computations on entire arrays within highly optimized C code, effectively bypassing the performance bottleneck of Python's interpreter overhead for numerical tasks.\n",
    "2.  **Introducing the `ndarray` for Efficient Data Storage:** Standard Python lists are heterogeneous and store pointers to objects, incurring significant overhead. `ndarrays` store contiguous blocks of homogeneous data, leading to better cache utilization and reduced memory footprint.\n",
    "3.  **Providing a Rich Set of Optimized Numerical Algorithms:** Instead of requiring users to reimplement common mathematical and statistical algorithms from scratch in Python, NumPy provides highly optimized, pre-built functions for these operations. This not only saves development time but also ensures numerical stability and efficiency.\n",
    "4.  **Enabling High-Performance Data Manipulation:** Operations like slicing, reshaping, stacking, and splitting arrays are exceptionally fast in NumPy, facilitating efficient preparation and transformation of data for analysis and modeling.\n",
    "\n",
    "In essence, NumPy transforms Python into a powerful and efficient environment for scientific computing, making it a strong contender against specialized numerical languages like MATLAB and and R for a wide range of tasks."
   ]
  },
  {
   "cell_type": "markdown",
   "id": "bb16ac3b-e68d-4891-9100-ab19b384de0e",
   "metadata": {},
   "source": [
    "## 2. Compare and contrast np.mean() and np.average() functions in NumPy. When would you use one over the other?"
   ]
  },
  {
   "cell_type": "markdown",
   "id": "37e28122-99d6-431c-8246-b464c486322f",
   "metadata": {},
   "source": [
    "### Comparison of `np.mean()` and `np.average()` in NumPy\n",
    "\n",
    "#### `np.mean()`\n",
    "\n",
    "#### Purpose:\n",
    "The `np.mean()` function computes the **arithmetic mean** (simple average) of elements along a specified axis or over the entire array. It treats all elements equally, assuming they have the same \"weight\" or importance.\n",
    "\n",
    "#### Key Characteristics:\n",
    "* **Arithmetic Mean:** Always calculates the sum of elements divided by the count of elements.\n",
    "* **No Weights:** Does not accept a `weights` parameter. Every element contributes equally to the mean.\n",
    "* **`dtype` Parameter:** Supports a `dtype` argument to specify the data type of the output. This can be crucial for numerical precision, especially with large integer arrays where intermediate sums might overflow standard integer types.\n",
    "* **Masked Arrays:** When used with `numpy.ma.MaskedArray`, `np.mean()` considers the mask and computes the mean only over the unmasked (valid) values.\n",
    "* **Syntax:** `numpy.mean(a, axis=None, dtype=None, out=None, keepdims=<no value>, *, where=<no value>)`"
   ]
  },
  {
   "cell_type": "code",
   "execution_count": 1,
   "id": "5dc3e23c-098e-4a57-9fd8-562aad66fc32",
   "metadata": {},
   "outputs": [
    {
     "name": "stdout",
     "output_type": "stream",
     "text": [
      "Array: [1 2 3 4 5]\n",
      "np.mean(arr): 3.0\n",
      "\n",
      "Matrix:\n",
      "[[1 2 3]\n",
      " [4 5 6]]\n",
      "np.mean(matrix, axis=0): [2.5 3.5 4.5]\n",
      "np.mean(matrix, axis=1): [2. 5.]\n"
     ]
    }
   ],
   "source": [
    "### Example:\n",
    "import numpy as np\n",
    "\n",
    "arr = np.array([1, 2, 3, 4, 5])\n",
    "simple_mean = np.mean(arr)\n",
    "print(f\"Array: {arr}\")\n",
    "print(f\"np.mean(arr): {simple_mean}\")\n",
    "\n",
    "matrix = np.array([[1, 2, 3], [4, 5, 6]])\n",
    "mean_axis0 = np.mean(matrix, axis=0) # Mean of columns\n",
    "mean_axis1 = np.mean(matrix, axis=1) # Mean of rows\n",
    "print(f\"\\nMatrix:\\n{matrix}\")\n",
    "print(f\"np.mean(matrix, axis=0): {mean_axis0}\")\n",
    "print(f\"np.mean(matrix, axis=1): {mean_axis1}\")"
   ]
  },
  {
   "cell_type": "markdown",
   "id": "38a70ebe-5219-4cc9-9502-b7bb79547a68",
   "metadata": {},
   "source": [
    "### When to Use One Over the Other\n",
    "\n",
    "#### Use `np.mean()` when:\n",
    "- You need to calculate the **simple arithmetic mean** where all data points are considered equally important. This is the most common use case for averages in basic statistical analysis.\n",
    "- You are concerned about **numerical precision** and need to explicitly control the `dtype` of the output (e.g., to avoid overflow with integer inputs by forcing `float64`).\n",
    "- You are working with `numpy.ma.MaskedArray` and want the mean to automatically **ignore masked values**.\n",
    "\n",
    "#### Use `np.average()` when:\n",
    "- You need to calculate a **weighted average**, where different data points contribute unequally to the overall average. This is common in scenarios like:\n",
    "  - **Statistics**: Calculating GPA (grades have different credit hours).\n",
    "  - **Finance**: Portfolio returns (different assets have different allocations).\n",
    "  - **Survey Data**: Adjusting for sample biases.\n",
    "  - **Signal Processing**: Applying windowing functions.\n",
    "- You want a single function that can **optionally handle weighted averages**, simplifying your code if you sometimes need weighted and sometimes simple averages.\n",
    "- You need to **retrieve the sum of weights along with the average** (using `returned=True`).\n"
   ]
  },
  {
   "cell_type": "markdown",
   "id": "6bf9ea25-62e6-4848-846d-6f60f6d4ccb7",
   "metadata": {},
   "source": [
    "## 3. Describe the methods for reversing a NumPy array along different axes. Provide examples for 1D and 2D arrays."
   ]
  },
  {
   "cell_type": "markdown",
   "id": "b9632607-4677-445e-83ed-c134ec5483fe",
   "metadata": {},
   "source": [
    "#### 1D Array Reversal\n",
    "\n",
    "- `np.mean()` vs `np.average()` is **not relevant here**. This section focuses on reversing arrays.\n",
    "- Reversing with slicing (`[::-1]`) is the most **concise and efficient** way to reverse a NumPy array.\n",
    "- `np.roll()` performs **cyclic shifts**, not actual reversals. Trying to reverse with `np.roll()` leads to **unexpected or incorrect outcomes** unless done with complex logic."
   ]
  },
  {
   "cell_type": "code",
   "execution_count": 2,
   "id": "5f3b6215-43fe-4d6c-abdf-b09d54178f65",
   "metadata": {},
   "outputs": [
    {
     "name": "stdout",
     "output_type": "stream",
     "text": [
      "Original 1D array: [1 2 3 4 5]\n",
      "Slicing reversal: [5 4 3 2 1]\n",
      "np.roll(arr_1d, 2): [4 5 1 2 3]\n",
      "np.roll(arr_1d, -1): [2 3 4 5 1]\n"
     ]
    }
   ],
   "source": [
    "####  Code\n",
    "import numpy as np\n",
    "\n",
    "# 1D Array Example\n",
    "arr_1d = np.array([1, 2, 3, 4, 5])\n",
    "print(f\"Original 1D array: {arr_1d}\")\n",
    "\n",
    "# Reversing with slicing (preferred)\n",
    "reversed_1d_slicing = arr_1d[::-1]\n",
    "print(f\"Slicing reversal: {reversed_1d_slicing}\")\n",
    "\n",
    "# Example showing what roll does (not reversal)\n",
    "rolled_arr_1d = np.roll(arr_1d, 2)  # Shift elements by 2 positions to the right\n",
    "print(f\"np.roll(arr_1d, 2): {rolled_arr_1d}\")  # Output: [4 5 1 2 3]\n",
    "\n",
    "rolled_arr_1d_neg = np.roll(arr_1d, -1)  # Shift elements by 1 position to the left\n",
    "print(f\"np.roll(arr_1d, -1): {rolled_arr_1d_neg}\")  # Output: [2 3 4 5 1]"
   ]
  },
  {
   "cell_type": "markdown",
   "id": "a7ec94f8-5bca-432c-8dd3-18243c1377b7",
   "metadata": {},
   "source": [
    "### 2D Array Reversal\n",
    "\n",
    "- `np.flip(array, axis=0)` reverses **rows** (i.e., flips along the vertical axis).\n",
    "- `np.flip(array, axis=1)` reverses **columns** (i.e., flips along the horizontal axis).\n",
    "- `np.roll()` again does **not reverse** the array; it just **shifts rows or columns cyclically**.\n"
   ]
  },
  {
   "cell_type": "code",
   "execution_count": 3,
   "id": "fc26fb9c-9c66-409d-ab0f-7f33632c36d1",
   "metadata": {},
   "outputs": [
    {
     "name": "stdout",
     "output_type": "stream",
     "text": [
      "\n",
      "--- 2D Array Example ---\n",
      "Original 2D array:\n",
      " [[1 2 3]\n",
      " [4 5 6]\n",
      " [7 8 9]]\n",
      "\n",
      "Reversed rows using np.flip(axis=0):\n",
      "[[7 8 9]\n",
      " [4 5 6]\n",
      " [1 2 3]]\n",
      "np.roll(matrix, shift=1, axis=0):\n",
      "[[7 8 9]\n",
      " [1 2 3]\n",
      " [4 5 6]]\n",
      "\n",
      "Reversed columns using np.flip(axis=1):\n",
      "[[3 2 1]\n",
      " [6 5 4]\n",
      " [9 8 7]]\n",
      "np.roll(matrix, shift=1, axis=1):\n",
      "[[3 1 2]\n",
      " [6 4 5]\n",
      " [9 7 8]]\n"
     ]
    }
   ],
   "source": [
    "print(\"\\n--- 2D Array Example ---\")\n",
    "matrix = np.array([\n",
    "    [1, 2, 3],\n",
    "    [4, 5, 6],\n",
    "    [7, 8, 9]\n",
    "])\n",
    "print(\"Original 2D array:\\n\", matrix)\n",
    "\n",
    "# Reverse rows using np.flip (preferred)\n",
    "reversed_rows_flip = np.flip(matrix, axis=0)\n",
    "print(f\"\\nReversed rows using np.flip(axis=0):\\n{reversed_rows_flip}\")\n",
    "\n",
    "# Trying to simulate row reversal with np.roll()\n",
    "rolled_rows = np.roll(matrix, shift=1, axis=0)\n",
    "print(f\"np.roll(matrix, shift=1, axis=0):\\n{rolled_rows}\")\n",
    "# Output:\n",
    "# [[7 8 9]\n",
    "#  [1 2 3]\n",
    "#  [4 5 6]]\n",
    "\n",
    "# Reverse columns using np.flip (preferred)\n",
    "reversed_cols_flip = np.flip(matrix, axis=1)\n",
    "print(f\"\\nReversed columns using np.flip(axis=1):\\n{reversed_cols_flip}\")\n",
    "\n",
    "# Trying to simulate column reversal with np.roll()\n",
    "rolled_cols = np.roll(matrix, shift=1, axis=1)\n",
    "print(f\"np.roll(matrix, shift=1, axis=1):\\n{rolled_cols}\")\n",
    "# Output:\n",
    "# [[3 1 2]\n",
    "#  [6 4 5]\n",
    "#  [9 7 8]]"
   ]
  },
  {
   "cell_type": "markdown",
   "id": "ba462d5e-22df-455e-889b-5805cc404ef1",
   "metadata": {},
   "source": [
    "## 4. How can you determine the data type of elements in a NumPy array? Discuss the importance of data types in memory management and performance."
   ]
  },
  {
   "cell_type": "markdown",
   "id": "9e00d77c-46b7-4410-8327-0edf404fe437",
   "metadata": {},
   "source": [
    "### Determining Data Type in NumPy Arrays\n",
    "\n",
    "In **NumPy**, the data type of elements in an array is a crucial attribute that impacts:\n",
    "\n",
    "- How the array is stored in memory.\n",
    "- How numerical operations are performed.\n",
    "\n",
    "#### How to Determine the Data Type\n",
    "\n",
    "You can determine the data type of elements in a NumPy array using the `.dtype` attribute of the array object.\n",
    "\n",
    "#### Key Points\n",
    "\n",
    "- If **no type is specified**, NumPy infers the type from the input values.\n",
    "- If **mixed types** are given, NumPy will **upcast** to the most general type that can contain all values  \n",
    "  _(e.g., `int` + `float` → `float`)_.\n",
    "- You can **explicitly set** the data type using the `dtype` parameter.\n",
    "\n",
    "#### Common NumPy Data Types\n",
    "\n",
    "- `int8`, `int16`, `int32`, `int64`\n",
    "- `float16`, `float32`, `float64`\n",
    "- `complex64`, `complex128`\n",
    "- `bool`\n"
   ]
  },
  {
   "cell_type": "code",
   "execution_count": 4,
   "id": "3e49a064-5611-453e-ba7a-385def60d1e9",
   "metadata": {},
   "outputs": [
    {
     "name": "stdout",
     "output_type": "stream",
     "text": [
      "Array: [1 2 3]\n",
      "Data type (arr_int.dtype): int64\n",
      "\n",
      "Array: [1.  2.5 3.7]\n",
      "Data type (arr_float.dtype): float64\n",
      "\n",
      "Array: [1.  2.5 3. ]\n",
      "Data type (arr_mixed.dtype): float64\n",
      "\n",
      "Array: [10 20 30]\n",
      "Data type (arr_explicit_int8.dtype): int8\n",
      "\n",
      "Array: [1.+2.j 3.-4.j]\n",
      "Data type (arr_explicit_complex.dtype): complex64\n",
      "\n",
      "Array: [ True False  True]\n",
      "Data type (arr_bool.dtype): bool\n"
     ]
    }
   ],
   "source": [
    "# Example 1: Integer array\n",
    "arr_int = np.array([1, 2, 3])\n",
    "print(f\"Array: {arr_int}\")\n",
    "print(f\"Data type (arr_int.dtype): {arr_int.dtype}\")  # Output: int64 (or int32 depending on system)\n",
    "\n",
    "# Example 2: Float array\n",
    "arr_float = np.array([1.0, 2.5, 3.7])\n",
    "print(f\"\\nArray: {arr_float}\")\n",
    "print(f\"Data type (arr_float.dtype): {arr_float.dtype}\")  # Output: float64\n",
    "\n",
    "# Example 3: Mixed type (NumPy usually upcasts)\n",
    "arr_mixed = np.array([1, 2.5, 3])\n",
    "print(f\"\\nArray: {arr_mixed}\")\n",
    "print(f\"Data type (arr_mixed.dtype): {arr_mixed.dtype}\")  # Output: float64 (upcasted to accommodate float)\n",
    "\n",
    "# Example 4: Explicitly specified data type\n",
    "arr_explicit_int8 = np.array([10, 20, 30], dtype=np.int8)\n",
    "print(f\"\\nArray: {arr_explicit_int8}\")\n",
    "print(f\"Data type (arr_explicit_int8.dtype): {arr_explicit_int8.dtype}\")  # Output: int8\n",
    "\n",
    "arr_explicit_complex = np.array([1+2j, 3-4j], dtype=np.complex64)\n",
    "print(f\"\\nArray: {arr_explicit_complex}\")\n",
    "print(f\"Data type (arr_explicit_complex.dtype): {arr_explicit_complex.dtype}\")  # Output: complex64\n",
    "\n",
    "# Example 5: Boolean array\n",
    "arr_bool = np.array([True, False, True])\n",
    "print(f\"\\nArray: {arr_bool}\")\n",
    "print(f\"Data type (arr_bool.dtype): {arr_bool.dtype}\")  # Output: bool"
   ]
  },
  {
   "cell_type": "markdown",
   "id": "76b532b5-faab-47e9-9792-848a336c2589",
   "metadata": {},
   "source": [
    "### Importance of Data Types in Memory Management and Performance\n",
    "\n",
    "Data types are fundamental to how **NumPy** optimizes operations. Their importance stems from two major areas:\n",
    "\n",
    "---\n",
    "\n",
    "#### 1. Memory Management\n",
    "\n",
    "- **Fixed-Size Elements**:  \n",
    "  NumPy arrays are **homogeneous**, meaning all elements must be of the exact same data type.  \n",
    "  This fixed size per element allows NumPy to store array data **contiguously** in memory as a block.\n",
    "\n",
    "- **Predictable Memory Allocation**:  \n",
    "  Knowing the `dtype` (e.g., `int8` takes 1 byte, `float64` takes 8 bytes) allows NumPy to allocate the **precise amount of memory** needed for the entire array.  \n",
    "  This is **much more efficient** than Python’s native lists, where each element is a separate Python object with its own memory overhead and pointers.\n",
    "\n",
    "- **Reduced Overhead**:  \n",
    "  Since NumPy doesn’t need to store type information for each individual element (only once for the entire array),  \n",
    "  it significantly reduces memory overhead compared to Python lists — especially for large datasets.\n",
    "\n",
    "- **🔍 Example**:  \n",
    "  A Python list of 1 million integers would store 1 million Python `int` objects,  \n",
    "  each with its own reference count, type information, and value.  \n",
    "  A NumPy `int32` array of 1 million integers would simply store 1 million 4-byte integers **contiguously** —  \n",
    "  a massive memory saving.\n",
    "\n",
    "---\n",
    "\n",
    "#### 2. Performance\n",
    "\n",
    "- **Vectorized Operations (C/Fortran Speed)**:  \n",
    "  The **homogeneity** and **contiguous memory layout** of NumPy arrays enable highly optimized, **vectorized operations**.  \n",
    "  NumPy delegates these element-wise operations to **highly optimized C or Fortran code**,  \n",
    "  avoiding slow Python `for` loops and yielding **orders of magnitude faster** performance.\n",
    "\n",
    "- **CPU Cache Efficiency**:  \n",
    "  When data is stored contiguously and accessed sequentially (as in vectorized operations),  \n",
    "  the CPU can efficiently **prefetch data into its cache**, reducing latency and improving speed.\n",
    "\n",
    "- **No Type Checking Overhead**:  \n",
    "  Since all elements are known to be of the same type, NumPy **doesn't need to perform runtime type checking** on each element,  \n",
    "  saving significant processing time.\n",
    "\n",
    "- **Optimized Algorithms**:  \n",
    "  Many numerical algorithms (e.g., **linear algebra**, **Fourier transforms**) are implemented in **compiled C/Fortran**,  \n",
    "  leveraging the fixed-size data types for **maximum efficiency**.\n",
    "\n",
    "  Choosing an appropriate data type (e.g., `float32` vs. `float64`) can sometimes lead to **faster computations**  \n",
    "  if lower precision is acceptable, as 32-bit operations may be faster than 64-bit ones on some hardware.\n",
    "\n",
    "- **Avoiding Type Coercion**:  \n",
    "  If you perform operations between arrays of different `dtype`s, NumPy might perform **type coercion**  \n",
    "  (e.g., upcasting to a larger type) before executing the operation.  \n",
    "\n",
    "  While automatic, this can introduce a **minor performance penalty** if done frequently.  \n",
    "  Explicitly defining `dtype` or ensuring consistent types can help **avoid unnecessary coercion**.\n"
   ]
  },
  {
   "cell_type": "markdown",
   "id": "6ded6395-7515-41e5-8e04-dbb3880a2b59",
   "metadata": {},
   "source": [
    "## 5. Define ndarrays in NumPy and explain their key features. How do they differ from standard Python lists?"
   ]
  },
  {
   "cell_type": "markdown",
   "id": "a87c091b-b836-45e2-ab2a-e1358c8f6d64",
   "metadata": {},
   "source": [
    "#### Definition  \n",
    "A **NumPy ndarray** (n-dimensional array) is a homogeneous, multidimensional array used for efficient numerical computations in Python. It is the core data structure provided by the NumPy library, optimized for performance and mathematical operations.  \n",
    "\n",
    "---\n",
    "\n",
    "#### Key Features of NumPy ndarrays  \n",
    "\n",
    "1. **Homogeneous Data Type**  \n",
    "   - All elements must be of the same data type (e.g., `int`, `float`, `bool`), ensuring efficient memory usage and computation.  \n",
    "\n",
    "2. **Fixed Size**  \n",
    "   - Once created, the size of an ndarray cannot be changed dynamically (unlike Python lists).  \n",
    "\n",
    "3. **Multidimensional**  \n",
    "   - Supports n-dimensional arrays (1D, 2D, 3D, etc.), making it suitable for matrices, tensors, and other numerical structures.  \n",
    "\n",
    "4. **Efficient Operations**  \n",
    "   - Optimized for **vectorized operations** (element-wise computations without loops), leading to faster execution than Python lists.  \n",
    "\n",
    "5. **Memory Efficiency**  \n",
    "   - Stores data in **contiguous memory blocks**, reducing overhead and improving cache utilization.  \n",
    "\n",
    "6. **Broadcasting Support**  \n",
    "   - Allows arithmetic operations between arrays of different shapes under certain conditions.  \n",
    "\n",
    "7. **Rich Functionality**  \n",
    "   - Supports advanced operations (linear algebra, Fourier transforms, random number generation, etc.).  \n",
    "\n",
    "8. **Indexing & Slicing**  \n",
    "   - Provides flexible indexing (boolean, integer array indexing) and slicing capabilities.  \n",
    "\n",
    "---\n",
    "\n",
    "#### Differences Between NumPy ndarrays and Python Lists  \n",
    "\n",
    "| Feature               | NumPy ndarray                          | Python List                          |  \n",
    "|----------------------|----------------------------------------|--------------------------------------|  \n",
    "| **Data Type**        | Homogeneous (same type)                | Heterogeneous (mixed types)          |  \n",
    "| **Performance**      | Faster (C backend + vectorization)     | Slower for numerical ops             |  \n",
    "| **Memory Usage**     | Contiguous storage (efficient)         | Stores pointers (less efficient)     |  \n",
    "| **Functionality**    | Built-in math ops (e.g., `np.sin()`)   | Requires loops/list comprehensions   |  \n",
    "| **Size Flexibility** | Fixed after creation                   | Dynamically resizable                |  \n",
    "| **Dimensionality**   | Supports n-dimensions                  | Typically 1D (nested for higher)     |  \n",
    "\n",
    "---"
   ]
  },
  {
   "cell_type": "code",
   "execution_count": 5,
   "id": "98f8e2ae-b102-4f14-94ec-9891b4d386e7",
   "metadata": {},
   "outputs": [
    {
     "name": "stdout",
     "output_type": "stream",
     "text": [
      "[1 2 3]\n",
      "[1, 'two', 3.0]\n"
     ]
    }
   ],
   "source": [
    "#### Example Comparison    \n",
    "import numpy as np  \n",
    "# NumPy array (homogeneous, efficient)  \n",
    "arr = np.array([1, 2, 3])  # Stored as int64 in contiguous memory  \n",
    "# Python list (heterogeneous, flexible)  \n",
    "lst = [1, \"two\", 3.0]      # Mixed types, slower for math  \n",
    "print(arr)\n",
    "print(lst)"
   ]
  },
  {
   "cell_type": "markdown",
   "id": "8600885c-45dd-4cd0-97ca-c2a3a821bd77",
   "metadata": {},
   "source": [
    "#### When to Use Which?\n",
    "- **Use NumPy ndarrays** for:\n",
    "  - Numerical computations\n",
    "  - Large datasets\n",
    "  - Math-heavy tasks\n",
    "  - Machine learning applications\n",
    "  - Operations requiring vectorization\n",
    "\n",
    "- **Use Python lists** for:\n",
    "  - General-purpose collections\n",
    "  - Mixed data types\n",
    "  - Dynamic resizing needs\n",
    "  - Non-numerical data storage\n",
    "  - Situations where list-specific methods are needed"
   ]
  },
  {
   "cell_type": "markdown",
   "id": "f76420c6-4779-4c80-8738-26ca44e21645",
   "metadata": {},
   "source": [
    "## 6. Analyze the performance benefits of NumPy arrays over Python lists for large-scale numerical operations."
   ]
  },
  {
   "cell_type": "markdown",
   "id": "3742e766-cb80-435e-b9f0-c9cdca831ff9",
   "metadata": {},
   "source": [
    "### NumPy Arrays vs Python Lists: Performance Advantages\n",
    "\n",
    "NumPy arrays offer significant performance advantages over standard Python lists for large-scale numerical operations. These benefits stem from fundamental differences in their design and implementation.\n",
    "\n",
    "#### Memory Efficiency and Contiguous Storage\n",
    "\n",
    "##### NumPy Arrays (ndarray):\n",
    "- **Homogeneous**: All elements must be the same data type (e.g., all int32 or float64)\n",
    "- **Contiguous Memory Allocation**: Elements stored in a single, contiguous block\n",
    "- **Reduced Overhead**: Type information stored once for entire array\n",
    "- **Cache Locality**: Contiguous storage enables better CPU cache utilization\n",
    "\n",
    "##### Python Lists:\n",
    "- **Heterogeneous**: Can store elements of different data types\n",
    "- **Non-Contiguous Storage**: Stores pointers to scattered Python objects\n",
    "- **High Overhead**: Each element has its own memory overhead\n",
    "- **Poor Cache Locality**: Scattered memory locations cause cache misses\n",
    "\n",
    "#### Vectorization (Elimination of Python Loops)\n",
    "\n",
    "##### NumPy Arrays:\n",
    "- **Vectorized Operations**: Functions/operators work on entire arrays\n",
    "- **C/Fortran Implementation**: Core operations in optimized compiled code\n",
    "- **\"NumPy is Fast C\"**: Moves loops from Python to C for speed\n",
    "\n",
    "##### Python Lists:\n",
    "- **Explicit Loops**: Require `for` loops or list comprehensions\n",
    "- **Interpreter Overhead**: Each iteration has Python interpreter costs\n",
    "\n",
    "#### Optimized Algorithms and Libraries\n",
    "\n",
    "##### NumPy Arrays:\n",
    "- **Mature Implementations**: Optimized numerical algorithms in C/Fortran\n",
    "- **Scientific Stack Foundation**: Used by SciPy, Pandas, ML libraries\n",
    "\n",
    "##### Python Lists:\n",
    "- **Limited Numerical Support**: Lacks specialized numerical algorithms\n",
    "- **Manual Implementation**: Complex operations need custom Python code\n",
    "\n",
    "#### Broadcasting\n",
    "\n",
    "##### NumPy Arrays:\n",
    "- **Automatic Broadcasting**: Handles operations between different-shaped arrays\n",
    "- **Simplified Code**: Eliminates need for explicit looping\n",
    "\n",
    "##### Python Lists:\n",
    "- **No Broadcasting**: Requires manual iteration for different structures\n",
    "- **Complex Logic**: Needs conditional checks for shape mismatches\n",
    "\n",
    "#### Performance Comparison Summary\n",
    "\n",
    "| Feature                | NumPy Arrays (ndarray)                  | Python Lists                          |\n",
    "|------------------------|-----------------------------------------|---------------------------------------|\n",
    "| **Data Storage**       | Homogeneous, contiguous                 | Heterogeneous, scattered pointers     |\n",
    "| **Memory Usage**       | Low overhead                            | High overhead                         |\n",
    "| **Operation Speed**    | Very fast (C/Fortran backend)           | Slow (Python interpreter)             |\n",
    "| **CPU Cache**          | Excellent locality                      | Poor locality                         |\n",
    "| **Numerical Ops**      | Built-in optimized algorithms           | Requires explicit loops               |\n",
    "| **Flexibility**        | Fixed size, homogeneous                 | Dynamic size, heterogeneous           |"
   ]
  },
  {
   "cell_type": "code",
   "execution_count": 6,
   "id": "4e589836-9f5a-40e7-8274-2770f4b8d58d",
   "metadata": {},
   "outputs": [
    {
     "name": "stdout",
     "output_type": "stream",
     "text": [
      "--- Performance Comparison for 10,000,000 Elements ---\n",
      "\n",
      "### 1. Memory Usage Comparison\n",
      "\n",
      "#### Python List Memory Usage:\n",
      "Size of Python list object (approx, excluding element objects): 80000056 bytes\n",
      "Estimated total memory for Python list (elements + pointers): 360,000,056 bytes\n",
      "  (This estimation might still be conservative compared to actual memory usage due to object overheads)\n",
      "\n",
      "#### NumPy Array Memory Usage:\n",
      "NumPy array (int32) data size: 40,000,000 bytes (4 bytes/element)\n",
      "NumPy array (int64) data size: 80,000,000 bytes (8 bytes/element)\n",
      "\n",
      "Observation: NumPy arrays consume significantly less memory due to homogeneous, contiguous storage.\n",
      "\n",
      "### 2. Performance Comparison: Element-wise Addition\n",
      "\n",
      "#### Python List Addition (using list comprehension):\n",
      "Time taken for list addition: 0.273212 seconds\n",
      "\n",
      "#### NumPy Array Addition (vectorized operation):\n",
      "Time taken for NumPy array addition: 0.017106 seconds\n",
      "\n",
      "Observation: NumPy addition is approximately 15.97 times faster.\n",
      "\n",
      "### 3. Performance Comparison: Summation\n",
      "\n",
      "#### Python List Summation (using built-in sum()):\n",
      "Time taken for list summation: 0.032470 seconds\n",
      "\n",
      "#### NumPy Array Summation (using np.sum()):\n",
      "Time taken for NumPy array summation: 0.003765 seconds\n",
      "\n",
      "Observation: NumPy summation is approximately 8.62 times faster.\n",
      "\n",
      "--- Conclusion ---\n",
      "These comparisons clearly demonstrate the significant performance and memory efficiency benefits of NumPy arrays over standard Python lists for large-scale numerical operations.\n",
      "This is primarily due to NumPy's underlying C/Fortran implementations and contiguous memory storage, which enable highly optimized vectorized computations and better CPU cache utilization.\n"
     ]
    }
   ],
   "source": [
    "import sys\n",
    "import time\n",
    "\n",
    "# --- Configuration ---\n",
    "NUM_ELEMENTS = 10_000_000 # Ten million elements for large-scale comparison\n",
    "\n",
    "print(f\"--- Performance Comparison for {NUM_ELEMENTS:,} Elements ---\\n\")\n",
    "\n",
    "# --- 1. Memory Usage Comparison ---\n",
    "print(\"### 1. Memory Usage Comparison\\n\")\n",
    "\n",
    "# Python list\n",
    "python_list = list(range(NUM_ELEMENTS))\n",
    "# NumPy array (using int32 for comparison, or int64 by default on most systems)\n",
    "numpy_array_int32 = np.arange(NUM_ELEMENTS, dtype=np.int32)\n",
    "numpy_array_int64 = np.arange(NUM_ELEMENTS, dtype=np.int64)\n",
    "\n",
    "# sys.getsizeof for a list usually only gives the size of the list object itself,\n",
    "# not the elements it points to, which are separate Python int objects.\n",
    "# For a NumPy array, .nbytes gives the actual size of the data block.\n",
    "print(f\"#### Python List Memory Usage:\")\n",
    "print(f\"Size of Python list object (approx, excluding element objects): {sys.getsizeof(python_list)} bytes\")\n",
    "# To get a more realistic estimate for Python list of integers:\n",
    "# Each Python integer object typically takes about 28 bytes (on 64-bit systems)\n",
    "# plus the list's own overhead.\n",
    "estimated_python_list_memory = sys.getsizeof(python_list) + NUM_ELEMENTS * sys.getsizeof(0)\n",
    "print(f\"Estimated total memory for Python list (elements + pointers): {estimated_python_list_memory:,} bytes\")\n",
    "print(f\"  (This estimation might still be conservative compared to actual memory usage due to object overheads)\")\n",
    "\n",
    "print(f\"\\n#### NumPy Array Memory Usage:\")\n",
    "print(f\"NumPy array (int32) data size: {numpy_array_int32.nbytes:,} bytes ({numpy_array_int32.itemsize} bytes/element)\")\n",
    "print(f\"NumPy array (int64) data size: {numpy_array_int64.nbytes:,} bytes ({numpy_array_int64.itemsize} bytes/element)\")\n",
    "\n",
    "print(f\"\\nObservation: NumPy arrays consume significantly less memory due to homogeneous, contiguous storage.\")\n",
    "\n",
    "# --- 2. Performance Comparison: Element-wise Addition ---\n",
    "print(\"\\n### 2. Performance Comparison: Element-wise Addition\\n\")\n",
    "\n",
    "# Prepare data for addition\n",
    "py_list1 = list(range(NUM_ELEMENTS))\n",
    "py_list2 = list(range(NUM_ELEMENTS))\n",
    "\n",
    "np_array1 = np.arange(NUM_ELEMENTS)\n",
    "np_array2 = np.arange(NUM_ELEMENTS)\n",
    "\n",
    "print(\"#### Python List Addition (using list comprehension):\")\n",
    "start_time = time.perf_counter()\n",
    "result_py_list = [x + y for x, y in zip(py_list1, py_list2)]\n",
    "end_time = time.perf_counter()\n",
    "python_list_time = end_time - start_time\n",
    "print(f\"Time taken for list addition: {python_list_time:.6f} seconds\")\n",
    "# print(f\"First 5 elements of result_py_list: {result_py_list[:5]}\") # Optional: verify results\n",
    "\n",
    "print(\"\\n#### NumPy Array Addition (vectorized operation):\")\n",
    "start_time = time.perf_counter()\n",
    "result_np_array = np_array1 + np_array2\n",
    "end_time = time.perf_counter()\n",
    "numpy_array_time = end_time - start_time\n",
    "print(f\"Time taken for NumPy array addition: {numpy_array_time:.6f} seconds\")\n",
    "# print(f\"First 5 elements of result_np_array: {result_np_array[:5]}\") # Optional: verify results\n",
    "\n",
    "print(f\"\\nObservation: NumPy addition is approximately {python_list_time / numpy_array_time:.2f} times faster.\")\n",
    "\n",
    "\n",
    "# --- 3. Performance Comparison: Summation ---\n",
    "print(\"\\n### 3. Performance Comparison: Summation\\n\")\n",
    "\n",
    "print(\"#### Python List Summation (using built-in sum()):\")\n",
    "start_time = time.perf_counter()\n",
    "sum_python = sum(py_list1)\n",
    "end_time = time.perf_counter()\n",
    "python_sum_time = end_time - start_time\n",
    "print(f\"Time taken for list summation: {python_sum_time:.6f} seconds\")\n",
    "\n",
    "print(\"\\n#### NumPy Array Summation (using np.sum()):\")\n",
    "start_time = time.perf_counter()\n",
    "sum_numpy = np.sum(np_array1)\n",
    "end_time = time.perf_counter()\n",
    "numpy_sum_time = end_time - start_time\n",
    "print(f\"Time taken for NumPy array summation: {numpy_sum_time:.6f} seconds\")\n",
    "\n",
    "print(f\"\\nObservation: NumPy summation is approximately {python_sum_time / numpy_sum_time:.2f} times faster.\")\n",
    "\n",
    "print(\"\\n--- Conclusion ---\")\n",
    "print(\"These comparisons clearly demonstrate the significant performance and memory efficiency benefits of NumPy arrays over standard Python lists for large-scale numerical operations.\")\n",
    "print(\"This is primarily due to NumPy's underlying C/Fortran implementations and contiguous memory storage, which enable highly optimized vectorized computations and better CPU cache utilization.\")"
   ]
  },
  {
   "cell_type": "markdown",
   "id": "3b803912-fee6-48f1-b2df-5d3f7b2f7212",
   "metadata": {},
   "source": [
    "## 7. Compare vstack() and hstack() functions in NumPy. Provide examples demonstrating their usage and output."
   ]
  },
  {
   "cell_type": "markdown",
   "id": "3b1eb425-14c8-482c-9921-4253076090a9",
   "metadata": {},
   "source": [
    "### Vertical Stacking (vstack())\n",
    "\n",
    "#### Definition\n",
    "- **`np.vstack()`** (vertical stack) concatenates arrays along the first axis (row-wise)\n",
    "- Stacks arrays vertically, increasing the row count\n",
    "- All input arrays must have the same number of columns\n",
    "\n",
    "#### Key Characteristics\n",
    "- Input arrays must have matching shapes in all dimensions except the first\n",
    "- Equivalent to `np.concatenate(arrays, axis=0)`\n",
    "- Useful for combining data records with the same features\n",
    "\n",
    "### Horizontal Stacking (hstack())\n",
    "\n",
    "#### Definition\n",
    "- **`np.hstack()`** (horizontal stack) concatenates arrays along the second axis (column-wise)\n",
    "- Stacks arrays horizontally, increasing the column count\n",
    "- All input arrays must have the same number of rows\n",
    "\n",
    "#### Key Characteristics\n",
    "- Input arrays must have matching shapes in all dimensions except the second\n",
    "- Equivalent to `np.concatenate(arrays, axis=1)`\n",
    "- Useful for combining different features of the same observations\n",
    "\n",
    "### Key Differences\n",
    "\n",
    "| Feature            | vstack()                          | hstack()                          |\n",
    "|--------------------|-----------------------------------|-----------------------------------|\n",
    "| **Axis**           | Stack along axis 0 (rows)         | Stack along axis 1 (columns)      |\n",
    "| **Shape Requirement** | Same column count             | Same row count                |\n",
    "| **Result Shape**   | Rows increase                    | Columns increase                |\n",
    "| **Use Case**       | Adding more data samples         | Adding more features            |"
   ]
  },
  {
   "cell_type": "code",
   "execution_count": 7,
   "id": "edc6a10f-cf5e-4a19-8478-ae1b7f6d242b",
   "metadata": {},
   "outputs": [
    {
     "name": "stdout",
     "output_type": "stream",
     "text": [
      "Vertical Stack:\n",
      "[[1 2 3]\n",
      " [4 5 6]]\n",
      "\n",
      "Horizontal Stack:\n",
      "[1 2 3 4 5 6]\n",
      "\n",
      "Vertical Stack (2D):\n",
      "[[1 2]\n",
      " [3 4]\n",
      " [5 6]\n",
      " [7 8]]\n",
      "\n",
      "Horizontal Stack (2D):\n",
      "[[1 2 5 6]\n",
      " [3 4 7 8]]\n",
      "\n",
      "Error: all the input array dimensions except for the concatenation axis must match exactly, but along dimension 0, the array at index 0 has size 1 and the array at index 1 has size 2\n",
      "Error: all the input array dimensions except for the concatenation axis must match exactly, but along dimension 1, the array at index 0 has size 2 and the array at index 1 has size 3\n"
     ]
    }
   ],
   "source": [
    "# Example 1: Basic stacking\n",
    "a = np.array([1, 2, 3])\n",
    "b = np.array([4, 5, 6])\n",
    "\n",
    "# Vertical stacking (row-wise)\n",
    "v_result = np.vstack((a, b))\n",
    "print(\"Vertical Stack:\")\n",
    "print(v_result)\n",
    "\"\"\"\n",
    "Output:\n",
    "[[1 2 3]\n",
    " [4 5 6]]\n",
    "\"\"\"\n",
    "\n",
    "# Horizontal stacking (column-wise)\n",
    "h_result = np.hstack((a, b))\n",
    "print(\"\\nHorizontal Stack:\")\n",
    "print(h_result)\n",
    "\"\"\"\n",
    "Output:\n",
    "[1 2 3 4 5 6]\n",
    "\"\"\"\n",
    "\n",
    "# Example 2: 2D arrays\n",
    "x = np.array([[1, 2], [3, 4]])\n",
    "y = np.array([[5, 6], [7, 8]])\n",
    "\n",
    "# Vertical stacking of 2D arrays\n",
    "v_result_2d = np.vstack((x, y))\n",
    "print(\"\\nVertical Stack (2D):\")\n",
    "print(v_result_2d)\n",
    "\"\"\"\n",
    "Output:\n",
    "[[1 2]\n",
    " [3 4]\n",
    " [5 6]\n",
    " [7 8]]\n",
    "\"\"\"\n",
    "\n",
    "# Horizontal stacking of 2D arrays\n",
    "h_result_2d = np.hstack((x, y))\n",
    "print(\"\\nHorizontal Stack (2D):\")\n",
    "print(h_result_2d)\n",
    "\"\"\"\n",
    "Output:\n",
    "[[1 2 5 6]\n",
    " [3 4 7 8]]\n",
    "\"\"\"\n",
    "\n",
    "# Example 3: Shape requirements\n",
    "try:\n",
    "    # This will fail for hstack (different row counts)\n",
    "    np.hstack((np.array([[1, 2]]), np.array([[3, 4], [5, 6]])))\n",
    "except ValueError as e:\n",
    "    print(f\"\\nError: {e}\")\n",
    "    # Output: Error: all the input array dimensions except for the concatenation axis must match exactly\n",
    "\n",
    "try:\n",
    "    # This will fail for vstack (different column counts)\n",
    "    np.vstack((np.array([[1, 2]]), np.array([[3, 4, 5]])))\n",
    "except ValueError as e:\n",
    "    print(f\"Error: {e}\")\n",
    "    # Output: Error: all the input array dimensions except for the concatenation axis must match exactly"
   ]
  },
  {
   "cell_type": "markdown",
   "id": "0dd2ecf1-9230-4213-94a4-1425cf26b1e9",
   "metadata": {},
   "source": [
    "## 8. Explain the differences between fliplr() and flipud() methods in NumPy, including their effects on various array dimensions."
   ]
  },
  {
   "cell_type": "markdown",
   "id": "e1e52c7e-d1ab-41d2-9db8-7f926d1e9682",
   "metadata": {},
   "source": [
    "### `np.fliplr()` (Flip Left-Right)\n",
    "\n",
    "#### Definition\n",
    "- Flips array **horizontally** (left to right)\n",
    "- Operates along the **second axis** (columns)\n",
    "- Only works on arrays with **2 or more dimensions**\n",
    "\n",
    "#### Behavior\n",
    "- Reverses the order of elements in each row\n",
    "- Maintains the same row order but mirrors column positions\n",
    "- For 2D arrays: Flips column indices (e.g., column 0 ↔ last column)\n",
    "\n",
    "---\n",
    "\n",
    "### `np.flipud()` (Flip Up-Down)\n",
    "\n",
    "#### Definition\n",
    "- Flips array **vertically** (top to bottom)\n",
    "- Operates along the **first axis** (rows)\n",
    "- Works on arrays of **any dimension**\n",
    "\n",
    "#### Behavior\n",
    "- Reverses the order of elements in each column\n",
    "- Maintains the same column order but mirrors row positions\n",
    "- For 2D arrays: Flips row indices (e.g., row 0 ↔ last row)\n",
    "\n",
    "---\n",
    "\n",
    "### Key Differences\n",
    "\n",
    "| Feature               | `fliplr()`                          | `flipud()`                          |\n",
    "|-----------------------|-------------------------------------|-------------------------------------|\n",
    "| **Axis**              | Second axis (columns)               | First axis (rows)                   |\n",
    "| **Minimum Dimensions**| Requires ≥2D arrays                 | Works on 1D+ arrays                 |\n",
    "| **Visual Effect**     | Mirror image horizontally           | Mirror image vertically             |\n",
    "| **Common Use**        | Image processing (left-right flip)  | Matrix operations (row reversal)    |"
   ]
  },
  {
   "cell_type": "code",
   "execution_count": 8,
   "id": "c88c8e03-6ee6-4f9e-8a60-8c7fcfccb75e",
   "metadata": {},
   "outputs": [
    {
     "name": "stdout",
     "output_type": "stream",
     "text": [
      "Original array:\n",
      "[[1 2 3]\n",
      " [4 5 6]\n",
      " [7 8 9]]\n",
      "\n",
      "fliplr (horizontal flip):\n",
      "[[3 2 1]\n",
      " [6 5 4]\n",
      " [9 8 7]]\n",
      "\n",
      "flipud (vertical flip):\n",
      "[[7 8 9]\n",
      " [4 5 6]\n",
      " [1 2 3]]\n",
      "\n",
      "Original 1D array:\n",
      "[1 2 3]\n",
      "\n",
      "flipud works on 1D:\n",
      "[3 2 1]\n",
      "\n",
      "Attempting fliplr on 1D:\n",
      "Error: Input must be >= 2-d.\n",
      "\n",
      "Original 3D array (shape: 2,2,2):\n",
      "[[[1 2]\n",
      "  [3 4]]\n",
      "\n",
      " [[5 6]\n",
      "  [7 8]]]\n",
      "\n",
      "fliplr on 3D array (flips last dimension):\n",
      "[[[3 4]\n",
      "  [1 2]]\n",
      "\n",
      " [[7 8]\n",
      "  [5 6]]]\n",
      "\n",
      "flipud on 3D array (flips first dimension):\n",
      "[[[5 6]\n",
      "  [7 8]]\n",
      "\n",
      " [[1 2]\n",
      "  [3 4]]]\n"
     ]
    },
    {
     "data": {
      "text/plain": [
       "'\\n[[[5 6], [7 8]]\\n [[1 2], [3 4]]]\\n'"
      ]
     },
     "execution_count": 8,
     "metadata": {},
     "output_type": "execute_result"
    }
   ],
   "source": [
    "# Example 1: 2D array operations\n",
    "arr = np.array([[1, 2, 3],\n",
    "                [4, 5, 6],\n",
    "                [7, 8, 9]])\n",
    "\n",
    "print(\"Original array:\")\n",
    "print(arr)\n",
    "\n",
    "print(\"\\nfliplr (horizontal flip):\")\n",
    "print(np.fliplr(arr))\n",
    "\"\"\"\n",
    "[[3 2 1]\n",
    " [6 5 4]\n",
    " [9 8 7]]\n",
    "\"\"\"\n",
    "\n",
    "print(\"\\nflipud (vertical flip):\")\n",
    "print(np.flipud(arr))\n",
    "\"\"\"\n",
    "[[7 8 9]\n",
    " [4 5 6]\n",
    " [1 2 3]]\n",
    "\"\"\"\n",
    "\n",
    "# Example 2: 1D array behavior\n",
    "vec = np.array([1, 2, 3])\n",
    "\n",
    "print(\"\\nOriginal 1D array:\")\n",
    "print(vec)\n",
    "\n",
    "print(\"\\nflipud works on 1D:\")\n",
    "print(np.flipud(vec))  # [3 2 1]\n",
    "\n",
    "try:\n",
    "    print(\"\\nAttempting fliplr on 1D:\")\n",
    "    print(np.fliplr(vec))  # Raises ValueError\n",
    "except ValueError as e:\n",
    "    print(f\"Error: {e}\")  # \"Input must be >= 2-d\"\n",
    "\n",
    "# Example 3: Higher dimensions\n",
    "cube = np.array([[[1, 2], [3, 4]],\n",
    "                [[5, 6], [7, 8]]])\n",
    "\n",
    "print(\"\\nOriginal 3D array (shape: 2,2,2):\")\n",
    "print(cube)\n",
    "\n",
    "print(\"\\nfliplr on 3D array (flips last dimension):\")\n",
    "print(np.fliplr(cube))\n",
    "\"\"\"\n",
    "[[[3 4], [1 2]]\n",
    " [[7 8], [5 6]]]\n",
    "\"\"\"\n",
    "\n",
    "print(\"\\nflipud on 3D array (flips first dimension):\")\n",
    "print(np.flipud(cube))\n",
    "\"\"\"\n",
    "[[[5 6], [7 8]]\n",
    " [[1 2], [3 4]]]\n",
    "\"\"\""
   ]
  },
  {
   "cell_type": "markdown",
   "id": "1a841ce8-0e07-4f71-af8e-968084081f1d",
   "metadata": {},
   "source": [
    "### Key Observations\n",
    "\n",
    "#### Dimensionality Matters\n",
    "- `fliplr()` requires ≥2D arrays\n",
    "- `flipud()` works on any dimension (including 1D vectors)\n",
    "\n",
    "#### Axis Behavior\n",
    "- `fliplr()` always operates on axis 1 (columns)\n",
    "- `flipud()` always operates on axis 0 (rows)\n",
    "\n",
    "#### Higher Dimensions\n",
    "- For 3D+ arrays:\n",
    "  - `fliplr()` flips along the last axis of each 2D slice\n",
    "  - `flipud()` flips along the first axis regardless of total dimensions\n",
    "\n",
    "#### Performance Characteristics\n",
    "- Both functions:\n",
    "  - Return views (not copies) when possible\n",
    "  - Have O(n) computational complexity (for n elements)"
   ]
  },
  {
   "cell_type": "markdown",
   "id": "245b556f-74c1-40c6-8cbd-73067e0b7724",
   "metadata": {},
   "source": [
    "## 9. Discuss the functionality of the array_split() method in NumPy. How does it handle uneven splits?"
   ]
  },
  {
   "cell_type": "markdown",
   "id": "066a43a1-5b5f-4e1b-a679-98cbf380f3e3",
   "metadata": {},
   "source": [
    "### `numpy.array_split()` Method\n",
    "\n",
    "#### Definition\n",
    "- Splits an array into multiple sub-arrays (sections)\n",
    "- More flexible than `split()` as it allows **uneven divisions**\n",
    "- Works along specified axis (default is `axis=0`)\n",
    "\n",
    "#### Key Features\n",
    "- Accepts **any division number** (can be greater than array length)\n",
    "- Handles **indivisible cases gracefully** by varying section sizes\n",
    "- Returns a **list of sub-arrays** (views when possible)\n",
    "- Supports **multi-dimensional arrays** along any axis\n",
    "\n",
    "#### Uneven Split Handling\n",
    "When the array can't be divided equally:\n",
    "1. Distributes **extra elements evenly** across early sections\n",
    "2. Results in sections that differ by **at most 1 element**\n",
    "3. Follows the pattern: First sections get extra elements\n",
    "\n",
    "#### Comparison with `split()`\n",
    "\n",
    "| Feature          | `array_split()`            | `split()`                |\n",
    "|------------------|----------------------------|--------------------------|\n",
    "| **Uneven Divisions** | Allowed                    | Raises ValueError        |\n",
    "| **Output Sections**  | May vary in size           | Must be equal            |\n",
    "| **Use Case**         | Flexible partitioning      | Strict equal divisions   |"
   ]
  },
  {
   "cell_type": "code",
   "execution_count": 11,
   "id": "ddf35f4d-55cf-4087-8cb9-1543619bbf74",
   "metadata": {},
   "outputs": [
    {
     "name": "stdout",
     "output_type": "stream",
     "text": [
      "Uneven split (3 parts):\n",
      "Section 1: [0 1 2 3]\n",
      "Section 2: [4 5 6]\n",
      "Section 3: [7 8 9]\n",
      "\n",
      "More sections than elements:\n",
      "[array([1]), array([2]), array([3]), array([], dtype=int64), array([], dtype=int64)]\n",
      "\n",
      "Column-wise split:\n",
      "Columns 1:\n",
      "[[1 2]\n",
      " [4 5]\n",
      " [7 8]]\n",
      "Columns 2:\n",
      "[[3]\n",
      " [6]\n",
      " [9]]\n",
      "\n",
      "split() error: array split does not result in an equal division\n"
     ]
    }
   ],
   "source": [
    "# Example 1: Basic uneven split\n",
    "arr = np.arange(10)  # [0 1 2 3 4 5 6 7 8 9]\n",
    "\n",
    "# Split into 3 parts (10/3 = 3 with remainder 1)\n",
    "result = np.array_split(arr, 3)\n",
    "print(\"Uneven split (3 parts):\")\n",
    "for i, section in enumerate(result):\n",
    "    print(f\"Section {i+1}: {section}\")\n",
    "\n",
    "\"\"\"\n",
    "Output:\n",
    "Section 1: [0 1 2 3]\n",
    "Section 2: [4 5 6]\n",
    "Section 3: [7 8 9]\n",
    "\"\"\"\n",
    "\n",
    "# Example 2: More sections than elements\n",
    "small_arr = np.array([1, 2, 3])\n",
    "print(\"\\nMore sections than elements:\")\n",
    "print(np.array_split(small_arr, 5))  # Returns 5 sections (some empty)\n",
    "\n",
    "\"\"\"\n",
    "Output:\n",
    "[array([1]), array([2]), array([3]), array([], dtype=int32), array([], dtype=int32)]\n",
    "\"\"\"\n",
    "\n",
    "# Example 3: Multi-dimensional splitting\n",
    "matrix = np.array([[1, 2, 3],\n",
    "                   [4, 5, 6],\n",
    "                   [7, 8, 9]])\n",
    "\n",
    "# Column-wise split (axis=1)\n",
    "print(\"\\nColumn-wise split:\")\n",
    "col_splits = np.array_split(matrix, 2, axis=1)\n",
    "for i, col_section in enumerate(col_splits):\n",
    "    print(f\"Columns {i+1}:\\n{col_section}\")\n",
    "\n",
    "\"\"\"\n",
    "Output:\n",
    "Columns 1:\n",
    "[[1 2]\n",
    " [4 5]\n",
    " [7 8]]\n",
    "Columns 2:\n",
    "[[3]\n",
    " [6]\n",
    " [9]]\n",
    "\"\"\"\n",
    "\n",
    "# Example 4: Comparison with split()\n",
    "try:\n",
    "    np.split(arr, 3)  # Will raise ValueError for uneven division\n",
    "except ValueError as e:\n",
    "    print(f\"\\nsplit() error: {e}\")"
   ]
  },
  {
   "cell_type": "markdown",
   "id": "0933f29a-a560-490c-af64-2e7e7f535782",
   "metadata": {},
   "source": [
    "### Key Observations\n",
    "\n",
    "#### Intelligent Distribution\n",
    "- For 10 elements into 3 sections → sizes `[4, 3, 3]`\n",
    "- For 7 elements into 3 sections → sizes `[3, 2, 2]`\n",
    "\n",
    "#### Edge Cases\n",
    "- Returns empty arrays when `N > array length`\n",
    "- Handles zero-length arrays gracefully\n",
    "\n",
    "#### Memory Efficiency\n",
    "- Returns **views** rather than copies for contiguous splits\n",
    "- Creates **copies** only when necessary (non-contiguous splits)\n",
    "\n",
    "#### Multi-axis Support\n",
    "- Works identically along **any specified axis**\n",
    "- Maintains array **dimensionality** in splits"
   ]
  },
  {
   "cell_type": "markdown",
   "id": "7bb88ea9-890e-4a85-b54c-21b5a8720850",
   "metadata": {},
   "source": [
    "## 10. Explain the concepts of vectorization and broadcasting in NumPy. How do they contribute to efficient array operations?"
   ]
  },
  {
   "cell_type": "markdown",
   "id": "6c589e08-331b-4293-a6bd-d91cbdb69457",
   "metadata": {},
   "source": [
    "### Vectorization in NumPy\n",
    "\n",
    "#### Definition\n",
    "* **Vectorization** refers to performing operations on entire arrays rather than individual elements.\n",
    "* It eliminates the need for explicit Python loops, which can be slow.\n",
    "* It's implemented via optimized C/Fortran backends, making operations much faster.\n",
    "\n",
    "#### Key Benefits\n",
    "* **Performance:**\n",
    "    * Avoids Python interpreter overhead, leading to significant speed gains.\n",
    "    * Leverages the CPU's **SIMD** (Single Instruction Multiple Data) instructions, allowing parallel processing of data.\n",
    "* **Readability:**\n",
    "    * Promotes a more concise and mathematical notation, making your code easier to understand.\n",
    "* **Functionality:**\n",
    "    * Enables element-wise operations with clean and intuitive syntax, simplifying array manipulations."
   ]
  },
  {
   "cell_type": "code",
   "execution_count": 22,
   "id": "d479568d-8c3b-424e-9f33-f5ef21651ea7",
   "metadata": {},
   "outputs": [
    {
     "name": "stdout",
     "output_type": "stream",
     "text": [
      "[5, 7, 9]\n"
     ]
    }
   ],
   "source": [
    "# Non-vectorized (slow)\n",
    "a = [1, 2, 3]\n",
    "b = [4, 5, 6]\n",
    "result = [x+y for x,y in zip(a,b)]\n",
    "print(result)"
   ]
  },
  {
   "cell_type": "code",
   "execution_count": 24,
   "id": "1fdfd83c-6f40-4aa4-a406-d7571a83b403",
   "metadata": {},
   "outputs": [
    {
     "name": "stdout",
     "output_type": "stream",
     "text": [
      "[5 7 9]\n"
     ]
    }
   ],
   "source": [
    "# Vectorized (fast)\n",
    "a = np.array([1, 2, 3])\n",
    "b = np.array([4, 5, 6])\n",
    "result = a + b  # [5 7 9]\n",
    "print(result)"
   ]
  },
  {
   "cell_type": "markdown",
   "id": "e5c91428-2e0e-45dc-be20-ba689b34f054",
   "metadata": {},
   "source": [
    "### Broadcasting in NumPy\n",
    "\n",
    "#### Definition\n",
    "* **Broadcasting** allows operations between arrays of different shapes.\n",
    "* It automatically expands the smaller array to match the larger array's shape without actually duplicating data.\n",
    "* It follows strict rules for dimension compatibility to determine if an operation is valid.\n",
    "\n",
    "#### Broadcasting Rules\n",
    "* **Shape Alignment:**\n",
    "    * When comparing two arrays, it starts with the trailing dimensions (from right to left).\n",
    "    * For an operation to be valid, corresponding dimensions must either be equal, or one of them must be 1.\n",
    "* **Dimension Expansion:**\n",
    "    * If arrays have different numbers of dimensions, the smaller array is padded with size-1 dimensions on its left side until the number of dimensions matches the larger array.\n",
    "* **Size Matching:**\n",
    "    * Any dimension of size 1 is \"stretched\" or repeated to match the corresponding dimension's size in the other array."
   ]
  },
  {
   "cell_type": "code",
   "execution_count": 26,
   "id": "3d7cb037-5565-4d4b-b70d-a687104cfae7",
   "metadata": {},
   "outputs": [
    {
     "name": "stdout",
     "output_type": "stream",
     "text": [
      "[[1 2 3]\n",
      " [4 5 6]\n",
      " [7 8 9]]\n",
      "[[11 12 13]\n",
      " [14 15 16]\n",
      " [17 18 19]]\n"
     ]
    }
   ],
   "source": [
    "# Array (3,3) + Scalar → Scalar broadcasts to (3,3)\n",
    "matrix = np.array([[1, 2, 3],\n",
    "                   [4, 5, 6],\n",
    "                   [7, 8, 9]])\n",
    "result = matrix + 10  \n",
    "print(matrix)\n",
    "print(result)"
   ]
  },
  {
   "cell_type": "code",
   "execution_count": 27,
   "id": "b75e8147-450c-4bad-9ee5-508ba3eac7c3",
   "metadata": {},
   "outputs": [
    {
     "name": "stdout",
     "output_type": "stream",
     "text": [
      "[[1]\n",
      " [2]\n",
      " [3]]\n",
      "[4 5 6]\n",
      "[[5 6 7]\n",
      " [6 7 8]\n",
      " [7 8 9]]\n"
     ]
    }
   ],
   "source": [
    "# Array (3,1) + Array (1,3) → Both broadcast to (3,3)\n",
    "a = np.array([[1], [2], [3]])  # shape (3,1)\n",
    "b = np.array([4, 5, 6])        # shape (3,)\n",
    "result = a + b\n",
    "print(a)\n",
    "print(b)\n",
    "print(result)"
   ]
  },
  {
   "cell_type": "markdown",
   "id": "c7513375-3129-4a05-b02c-e9b78e6b0997",
   "metadata": {},
   "source": [
    "### Efficiency Contributions\n",
    "\n",
    "#### Performance Optimization\n",
    "\n",
    "| Feature      | Benefit                                | Speed Gain |\n",
    "|--------------|----------------------------------------|------------|\n",
    "| **Vectorization** | Eliminates Python loop overhead        | 10-100x    |\n",
    "| **Broadcasting** | Avoids explicit array expansion        | 2-10x      |\n",
    "\n",
    "#### Memory Efficiency\n",
    "\n",
    "* **Vectorization:**\n",
    "    * Processes contiguous memory blocks, leading to more efficient data access.\n",
    "    * Results in better cache utilization, as relevant data is often already in the CPU's cache.\n",
    "* **Broadcasting:**\n",
    "    * Avoids creating temporary copies of arrays, especially when operating on arrays of different shapes.\n",
    "    * Uses \"virtual expansion,\" meaning the smaller array is logically stretched without consuming additional memory for the expanded view."
   ]
  },
  {
   "cell_type": "code",
   "execution_count": 28,
   "id": "4ee9223f-32e0-407f-97cc-472b656bb2b3",
   "metadata": {},
   "outputs": [
    {
     "name": "stdout",
     "output_type": "stream",
     "text": [
      "[[5 6 7]\n",
      " [6 7 8]\n",
      " [7 8 9]]\n"
     ]
    }
   ],
   "source": [
    "# Traditional approach (slow)\n",
    "def slow_add(arr, scalar):\n",
    "    result = np.empty_like(arr)\n",
    "    for i in range(arr.shape[0]):\n",
    "        for j in range(arr.shape[1]):\n",
    "            result[i,j] = arr[i,j] + scalar\n",
    "    return result\n",
    "print(result)"
   ]
  },
  {
   "cell_type": "code",
   "execution_count": 29,
   "id": "8166864a-ca9b-4295-95fe-89253b067441",
   "metadata": {},
   "outputs": [
    {
     "name": "stdout",
     "output_type": "stream",
     "text": [
      "[[5 6 7]\n",
      " [6 7 8]\n",
      " [7 8 9]]\n"
     ]
    }
   ],
   "source": [
    "# NumPy approach (fast)\n",
    "def fast_add(arr, scalar):\n",
    "    result = arr + scalar  # Uses both vectorization and broadcasting\n",
    "    return result\n",
    "print(result)"
   ]
  },
  {
   "cell_type": "markdown",
   "id": "f784e5e8-06c0-4228-9335-ef4fe5062000",
   "metadata": {},
   "source": [
    "### Key Differences\n",
    "\n",
    "#### Concept & Application\n",
    "\n",
    "| Concept        | Primary Advantage        | When It Applies                                  |\n",
    "|----------------|--------------------------|--------------------------------------------------|\n",
    "| **Vectorization** | Loop elimination         | Primarily for element-wise operations on arrays. |\n",
    "| **Broadcasting** | Shape compatibility      | When performing operations between arrays of different, but compatible, dimensions. |"
   ]
  },
  {
   "cell_type": "markdown",
   "id": "73b0dbaf-4167-4a67-ae49-c868e98a898e",
   "metadata": {},
   "source": [
    "# Practical Question"
   ]
  },
  {
   "cell_type": "markdown",
   "id": "a93ce265-02f4-49dc-96d3-c5c9051084cf",
   "metadata": {},
   "source": [
    "## 1. Create a 3x3 NumPy array with random integers between 1 and 100. Then, interchange its rows and columns."
   ]
  },
  {
   "cell_type": "code",
   "execution_count": 33,
   "id": "fb6d44c7-38dd-4e2e-b56f-4bdbf230cd7c",
   "metadata": {},
   "outputs": [
    {
     "data": {
      "text/plain": [
       "array([[55, 66, 12],\n",
       "       [62, 56, 87],\n",
       "       [39, 49, 59]])"
      ]
     },
     "execution_count": 33,
     "metadata": {},
     "output_type": "execute_result"
    }
   ],
   "source": [
    "arr = np.random.randint(1, 101, size = (3,3))\n",
    "arr"
   ]
  },
  {
   "cell_type": "code",
   "execution_count": 34,
   "id": "9ff2120c-8f47-4183-b4db-f4875683e97f",
   "metadata": {},
   "outputs": [
    {
     "data": {
      "text/plain": [
       "array([[55, 62, 39],\n",
       "       [66, 56, 49],\n",
       "       [12, 87, 59]])"
      ]
     },
     "execution_count": 34,
     "metadata": {},
     "output_type": "execute_result"
    }
   ],
   "source": [
    "arr.T"
   ]
  },
  {
   "cell_type": "markdown",
   "id": "f38a4a20-f9a9-450e-be30-b09e0c37b1f7",
   "metadata": {},
   "source": [
    "## 2. Generate a 1D NumPy array with 10 elements. Reshape it into a 2x5 array, then into a 5x2 array"
   ]
  },
  {
   "cell_type": "code",
   "execution_count": 46,
   "id": "db676643-65e9-448b-93a0-494069a07c23",
   "metadata": {},
   "outputs": [
    {
     "data": {
      "text/plain": [
       "array([ 11,  14,  12,  34,  63, 725,  56,  24,  51,  46])"
      ]
     },
     "execution_count": 46,
     "metadata": {},
     "output_type": "execute_result"
    }
   ],
   "source": [
    "arr = np.array([11,14,12,34,63,725,56,24,51,46])\n",
    "arr"
   ]
  },
  {
   "cell_type": "code",
   "execution_count": 47,
   "id": "d9f5fe79-2c4d-4e48-9b23-46768b046e8a",
   "metadata": {},
   "outputs": [
    {
     "data": {
      "text/plain": [
       "10"
      ]
     },
     "execution_count": 47,
     "metadata": {},
     "output_type": "execute_result"
    }
   ],
   "source": [
    "arr.size"
   ]
  },
  {
   "cell_type": "code",
   "execution_count": 48,
   "id": "d039f481-e055-4660-a4ff-4fad89a6f8ab",
   "metadata": {},
   "outputs": [
    {
     "data": {
      "text/plain": [
       "array([[ 11,  14,  12,  34,  63],\n",
       "       [725,  56,  24,  51,  46]])"
      ]
     },
     "execution_count": 48,
     "metadata": {},
     "output_type": "execute_result"
    }
   ],
   "source": [
    "np.reshape(arr, (2,5))"
   ]
  },
  {
   "cell_type": "code",
   "execution_count": 49,
   "id": "5e8b3306-1e07-4c50-8175-b8e669192a4f",
   "metadata": {},
   "outputs": [
    {
     "data": {
      "text/plain": [
       "array([[ 11,  14],\n",
       "       [ 12,  34],\n",
       "       [ 63, 725],\n",
       "       [ 56,  24],\n",
       "       [ 51,  46]])"
      ]
     },
     "execution_count": 49,
     "metadata": {},
     "output_type": "execute_result"
    }
   ],
   "source": [
    "np.reshape(arr, (5,2))"
   ]
  },
  {
   "cell_type": "markdown",
   "id": "642d18ce-3cba-4244-b0ec-34e133e544ac",
   "metadata": {},
   "source": [
    "## 3. Create a 4x4 NumPy array with random float values. Add a border of zeros around it, resulting in a 6x6 array."
   ]
  },
  {
   "cell_type": "code",
   "execution_count": 85,
   "id": "04e9ac48-8acc-42cf-9045-9e12ba5688a5",
   "metadata": {},
   "outputs": [
    {
     "data": {
      "text/plain": [
       "array([[0.64364751, 0.23728421, 0.56141876, 0.12342034],\n",
       "       [0.23215511, 0.88599638, 0.76521042, 0.08366925],\n",
       "       [0.87258684, 0.10665718, 0.11210163, 0.23499065],\n",
       "       [0.28573075, 0.01508316, 0.36382986, 0.4655406 ]])"
      ]
     },
     "execution_count": 85,
     "metadata": {},
     "output_type": "execute_result"
    }
   ],
   "source": [
    "arr = np.random.rand(4,4)\n",
    "arr"
   ]
  },
  {
   "cell_type": "code",
   "execution_count": 86,
   "id": "ffb31ffa-35bc-4774-ae7d-4355de4dadcf",
   "metadata": {},
   "outputs": [
    {
     "data": {
      "text/plain": [
       "array([[0., 0., 0., 0., 0., 0.],\n",
       "       [0., 0., 0., 0., 0., 0.],\n",
       "       [0., 0., 0., 0., 0., 0.],\n",
       "       [0., 0., 0., 0., 0., 0.],\n",
       "       [0., 0., 0., 0., 0., 0.],\n",
       "       [0., 0., 0., 0., 0., 0.]])"
      ]
     },
     "execution_count": 86,
     "metadata": {},
     "output_type": "execute_result"
    }
   ],
   "source": [
    "brr = np.zeros((6,6))\n",
    "brr"
   ]
  },
  {
   "cell_type": "code",
   "execution_count": 88,
   "id": "e6b82b9a-1c70-46f8-a7ab-81eede392236",
   "metadata": {
    "scrolled": true
   },
   "outputs": [
    {
     "data": {
      "text/plain": [
       "array([[0.        , 0.        , 0.        , 0.        , 0.        ,\n",
       "        0.        ],\n",
       "       [0.        , 0.64364751, 0.23728421, 0.56141876, 0.12342034,\n",
       "        0.        ],\n",
       "       [0.        , 0.23215511, 0.88599638, 0.76521042, 0.08366925,\n",
       "        0.        ],\n",
       "       [0.        , 0.87258684, 0.10665718, 0.11210163, 0.23499065,\n",
       "        0.        ],\n",
       "       [0.        , 0.28573075, 0.01508316, 0.36382986, 0.4655406 ,\n",
       "        0.        ],\n",
       "       [0.        , 0.        , 0.        , 0.        , 0.        ,\n",
       "        0.        ]])"
      ]
     },
     "execution_count": 88,
     "metadata": {},
     "output_type": "execute_result"
    }
   ],
   "source": [
    "brr[1:5, 1:5] = arr\n",
    "brr"
   ]
  },
  {
   "cell_type": "code",
   "execution_count": 90,
   "id": "1812caa7-b645-40fb-b272-918db011eac5",
   "metadata": {},
   "outputs": [
    {
     "data": {
      "text/plain": [
       "array([[1., 1., 1., 1.],\n",
       "       [1., 1., 1., 1.],\n",
       "       [1., 1., 1., 1.],\n",
       "       [1., 1., 1., 1.]])"
      ]
     },
     "execution_count": 90,
     "metadata": {},
     "output_type": "execute_result"
    }
   ],
   "source": [
    "# once again \n",
    "arr = np.ones((4,4))\n",
    "arr"
   ]
  },
  {
   "cell_type": "code",
   "execution_count": 92,
   "id": "23935f33-ceb7-42ea-989f-ce91eb7758a3",
   "metadata": {},
   "outputs": [
    {
     "data": {
      "text/plain": [
       "array([[0., 0., 0., 0., 0., 0.],\n",
       "       [0., 0., 0., 0., 0., 0.],\n",
       "       [0., 0., 0., 0., 0., 0.],\n",
       "       [0., 0., 0., 0., 0., 0.],\n",
       "       [0., 0., 0., 0., 0., 0.],\n",
       "       [0., 0., 0., 0., 0., 0.]])"
      ]
     },
     "execution_count": 92,
     "metadata": {},
     "output_type": "execute_result"
    }
   ],
   "source": [
    "brr = np.zeros((6,6))\n",
    "brr"
   ]
  },
  {
   "cell_type": "code",
   "execution_count": 93,
   "id": "058141fb-b0e9-4089-90ed-04495c0587e3",
   "metadata": {},
   "outputs": [
    {
     "data": {
      "text/plain": [
       "array([[0., 0., 0., 0., 0., 0.],\n",
       "       [0., 1., 1., 1., 1., 0.],\n",
       "       [0., 1., 1., 1., 1., 0.],\n",
       "       [0., 1., 1., 1., 1., 0.],\n",
       "       [0., 1., 1., 1., 1., 0.],\n",
       "       [0., 0., 0., 0., 0., 0.]])"
      ]
     },
     "execution_count": 93,
     "metadata": {},
     "output_type": "execute_result"
    }
   ],
   "source": [
    "brr[1:5, 1:5] = arr\n",
    "brr"
   ]
  },
  {
   "cell_type": "markdown",
   "id": "3cf91712-34b5-4e1f-968a-816ee48a093d",
   "metadata": {},
   "source": [
    "## 4. Using NumPy, create an array of integers from 10 to 60 with a step of 5."
   ]
  },
  {
   "cell_type": "code",
   "execution_count": 101,
   "id": "a38441f2-17b1-40b7-9ed1-1c6b6de33d4b",
   "metadata": {},
   "outputs": [
    {
     "data": {
      "text/plain": [
       "array([10, 15, 20, 25, 30, 35, 40, 45, 50, 55, 60])"
      ]
     },
     "execution_count": 101,
     "metadata": {},
     "output_type": "execute_result"
    }
   ],
   "source": [
    "arr = np.arange(10,61,5)\n",
    "arr"
   ]
  },
  {
   "cell_type": "markdown",
   "id": "a5ab2f59-588c-4fa0-8691-c96382252b57",
   "metadata": {},
   "source": [
    "## 5. Create a NumPy array of strings ['python', 'numpy', 'pandas']. Apply different case transformations (uppercase, lowercase, title case, etc.) to each element."
   ]
  },
  {
   "cell_type": "code",
   "execution_count": 102,
   "id": "fbd761f0-3096-4286-9e24-9c1c8d685e2a",
   "metadata": {},
   "outputs": [
    {
     "data": {
      "text/plain": [
       "array(['Python', 'Numpy', 'Pandas'], dtype='<U6')"
      ]
     },
     "execution_count": 102,
     "metadata": {},
     "output_type": "execute_result"
    }
   ],
   "source": [
    "arr = np.array([\"Python\",\"Numpy\",\"Pandas\"])\n",
    "arr"
   ]
  },
  {
   "cell_type": "code",
   "execution_count": 103,
   "id": "aefcc120-69a3-49d3-8f76-65fb13c88958",
   "metadata": {},
   "outputs": [
    {
     "data": {
      "text/plain": [
       "array(['PYTHON', 'NUMPY', 'PANDAS'], dtype='<U6')"
      ]
     },
     "execution_count": 103,
     "metadata": {},
     "output_type": "execute_result"
    }
   ],
   "source": [
    "np.char.upper(arr)"
   ]
  },
  {
   "cell_type": "code",
   "execution_count": 104,
   "id": "8054127f-bf8d-440d-8e99-c2275d779b23",
   "metadata": {},
   "outputs": [
    {
     "data": {
      "text/plain": [
       "array(['python', 'numpy', 'pandas'], dtype='<U6')"
      ]
     },
     "execution_count": 104,
     "metadata": {},
     "output_type": "execute_result"
    }
   ],
   "source": [
    "np.char.lower(arr)"
   ]
  },
  {
   "cell_type": "code",
   "execution_count": 105,
   "id": "dcd6b1c6-bc2e-450e-91e3-fbb4fbcc4b05",
   "metadata": {},
   "outputs": [
    {
     "data": {
      "text/plain": [
       "array(['Python', 'Numpy', 'Pandas'], dtype='<U6')"
      ]
     },
     "execution_count": 105,
     "metadata": {},
     "output_type": "execute_result"
    }
   ],
   "source": [
    "np.char.title(arr)"
   ]
  },
  {
   "cell_type": "code",
   "execution_count": 106,
   "id": "b974c553-962c-4d18-ac42-f319c358f49e",
   "metadata": {},
   "outputs": [
    {
     "data": {
      "text/plain": [
       "array(['pYTHON', 'nUMPY', 'pANDAS'], dtype='<U6')"
      ]
     },
     "execution_count": 106,
     "metadata": {},
     "output_type": "execute_result"
    }
   ],
   "source": [
    "np.char.swapcase(arr)"
   ]
  },
  {
   "cell_type": "code",
   "execution_count": 107,
   "id": "bf314f31-1543-421a-8820-469c04b00dba",
   "metadata": {},
   "outputs": [
    {
     "data": {
      "text/plain": [
       "array(['Python', 'Numpy', 'Pandas'], dtype='<U6')"
      ]
     },
     "execution_count": 107,
     "metadata": {},
     "output_type": "execute_result"
    }
   ],
   "source": [
    "np.char.capitalize(arr)"
   ]
  },
  {
   "cell_type": "markdown",
   "id": "af02aed1-8f9d-443a-b0bd-8631b09a5247",
   "metadata": {},
   "source": [
    "## 6. Generate a NumPy array of words. Insert a space between each character of every word in the array."
   ]
  },
  {
   "cell_type": "code",
   "execution_count": 125,
   "id": "8b31933f-9415-4c22-add5-56d524131ef5",
   "metadata": {},
   "outputs": [
    {
     "data": {
      "text/plain": [
       "array(['hello', 'numpy', 'world', 'python'], dtype='<U6')"
      ]
     },
     "execution_count": 125,
     "metadata": {},
     "output_type": "execute_result"
    }
   ],
   "source": [
    "arr = np.array(['hello', 'numpy', 'world', 'python'])\n",
    "arr"
   ]
  },
  {
   "cell_type": "code",
   "execution_count": 126,
   "id": "080a485c-81fc-44f2-b626-7e643dd9d2cc",
   "metadata": {},
   "outputs": [],
   "source": [
    "def add_spaces_between_chars(word):\n",
    "    #Inserts a space between each character of a given word.\n",
    "    return ' '.join(word)"
   ]
  },
  {
   "cell_type": "code",
   "execution_count": 127,
   "id": "c0e1bb0a-1d90-49dd-a171-8ef6f78a7914",
   "metadata": {},
   "outputs": [],
   "source": [
    "# Apply the function to each element of the NumPy array\n",
    "add_spaces_vectorized = np.vectorize(add_spaces_between_chars)\n",
    "spaced_words_array = add_spaces_vectorized(arr)"
   ]
  },
  {
   "cell_type": "code",
   "execution_count": 128,
   "id": "b4576492-99ae-47f7-a12c-2a36b8f464ca",
   "metadata": {},
   "outputs": [
    {
     "name": "stdout",
     "output_type": "stream",
     "text": [
      "\n",
      "Array with spaces between each character of every word:\n",
      "['h e l l o' 'n u m p y' 'w o r l d' 'p y t h o n']\n"
     ]
    }
   ],
   "source": [
    "print(\"\\nArray with spaces between each character of every word:\")\n",
    "print(spaced_words_array)"
   ]
  },
  {
   "cell_type": "markdown",
   "id": "6f745dd6-5a3d-4271-9bd4-b3419fb1cbc5",
   "metadata": {},
   "source": [
    "## 7. Create two 2D NumPy arrays and perform element-wise addition, subtraction, multiplication, and division."
   ]
  },
  {
   "cell_type": "code",
   "execution_count": 129,
   "id": "a3fc0eb6-9f32-4449-a562-f370ff12495c",
   "metadata": {},
   "outputs": [],
   "source": [
    "ary = np.random.randint(1, 11, size = (3,3))\n",
    "bry = np.random.randint(1, 11, size = (3,3))"
   ]
  },
  {
   "cell_type": "code",
   "execution_count": 130,
   "id": "b40da5be-7707-4d48-b57f-ef98812c4464",
   "metadata": {},
   "outputs": [
    {
     "data": {
      "text/plain": [
       "(array([[ 2,  1,  3],\n",
       "        [ 4,  7,  3],\n",
       "        [ 6, 10,  3]]),\n",
       " array([[5, 2, 3],\n",
       "        [7, 5, 7],\n",
       "        [4, 8, 4]]))"
      ]
     },
     "execution_count": 130,
     "metadata": {},
     "output_type": "execute_result"
    }
   ],
   "source": [
    "ary, bry"
   ]
  },
  {
   "cell_type": "code",
   "execution_count": 131,
   "id": "314ae254-698b-4fd8-aab8-06b2fa909b84",
   "metadata": {},
   "outputs": [
    {
     "data": {
      "text/plain": [
       "array([[ 7,  3,  6],\n",
       "       [11, 12, 10],\n",
       "       [10, 18,  7]])"
      ]
     },
     "execution_count": 131,
     "metadata": {},
     "output_type": "execute_result"
    }
   ],
   "source": [
    "ary + bry"
   ]
  },
  {
   "cell_type": "code",
   "execution_count": 133,
   "id": "22d1d413-3149-47e8-ab1f-42e404e3cfa6",
   "metadata": {},
   "outputs": [
    {
     "data": {
      "text/plain": [
       "array([[-3, -1,  0],\n",
       "       [-3,  2, -4],\n",
       "       [ 2,  2, -1]])"
      ]
     },
     "execution_count": 133,
     "metadata": {},
     "output_type": "execute_result"
    }
   ],
   "source": [
    "ary - bry"
   ]
  },
  {
   "cell_type": "code",
   "execution_count": 134,
   "id": "d2ab49b7-c4b4-4ad8-9a9e-c4923c0c09e4",
   "metadata": {},
   "outputs": [
    {
     "data": {
      "text/plain": [
       "array([[10,  2,  9],\n",
       "       [28, 35, 21],\n",
       "       [24, 80, 12]])"
      ]
     },
     "execution_count": 134,
     "metadata": {},
     "output_type": "execute_result"
    }
   ],
   "source": [
    "ary * bry"
   ]
  },
  {
   "cell_type": "code",
   "execution_count": 135,
   "id": "e2259c00-3b76-40db-b529-b710d32b78ac",
   "metadata": {},
   "outputs": [
    {
     "data": {
      "text/plain": [
       "array([[0.4       , 0.5       , 1.        ],\n",
       "       [0.57142857, 1.4       , 0.42857143],\n",
       "       [1.5       , 1.25      , 0.75      ]])"
      ]
     },
     "execution_count": 135,
     "metadata": {},
     "output_type": "execute_result"
    }
   ],
   "source": [
    "ary / bry"
   ]
  },
  {
   "cell_type": "code",
   "execution_count": 137,
   "id": "c5b3c44f-f695-46d0-b01c-232e6979904f",
   "metadata": {},
   "outputs": [
    {
     "data": {
      "text/plain": [
       "array([[ 29,  33,  25],\n",
       "       [ 81,  67,  73],\n",
       "       [112,  86, 100]])"
      ]
     },
     "execution_count": 137,
     "metadata": {},
     "output_type": "execute_result"
    }
   ],
   "source": [
    "ary @ bry # this is original matrix multiplication"
   ]
  },
  {
   "cell_type": "markdown",
   "id": "7bd6f38a-0024-4f56-9934-f63c3afebfda",
   "metadata": {},
   "source": [
    "## 8. Use NumPy to create a 5x5 identity matrix, then extract its diagonal elements."
   ]
  },
  {
   "cell_type": "code",
   "execution_count": 154,
   "id": "d54e011c-146e-4db8-8a61-36b6084d809e",
   "metadata": {},
   "outputs": [
    {
     "data": {
      "text/plain": [
       "array([[1., 0., 0., 0.],\n",
       "       [0., 1., 0., 0.],\n",
       "       [0., 0., 1., 0.],\n",
       "       [0., 0., 0., 1.]])"
      ]
     },
     "execution_count": 154,
     "metadata": {},
     "output_type": "execute_result"
    }
   ],
   "source": [
    "arr = np.eye(4)\n",
    "arr"
   ]
  },
  {
   "cell_type": "code",
   "execution_count": 156,
   "id": "c63c9b95-9547-4e12-b53d-b328cafea17b",
   "metadata": {},
   "outputs": [
    {
     "data": {
      "text/plain": [
       "array([1., 1., 1., 1.])"
      ]
     },
     "execution_count": 156,
     "metadata": {},
     "output_type": "execute_result"
    }
   ],
   "source": [
    "diagonal_elements = np.diag(arr)\n",
    "diagonal_elements"
   ]
  },
  {
   "cell_type": "markdown",
   "id": "64e2fe35-f53d-475a-a3ad-9f2cab22e80d",
   "metadata": {},
   "source": [
    "## 9. Generate a NumPy array of 100 random integers between 0 and 1000. Find and display all prime numbers in this array."
   ]
  },
  {
   "cell_type": "code",
   "execution_count": 157,
   "id": "e0fd0073-3877-4018-b14c-d138f20bef3d",
   "metadata": {},
   "outputs": [],
   "source": [
    "def is_prime(num):\n",
    "    \"\"\"\n",
    "    Checks if a number is prime.\n",
    "    A prime number is a natural number greater than 1 that has no positive divisors other than 1 and itself.\n",
    "    \"\"\"\n",
    "    if num <= 1:\n",
    "        return False\n",
    "    if num <= 3:\n",
    "        return True\n",
    "    if num % 2 == 0 or num % 3 == 0:\n",
    "        return False\n",
    "    i = 5\n",
    "    while i * i <= num:\n",
    "        if num % i == 0 or num % (i + 2) == 0:\n",
    "            return False\n",
    "        i += 6\n",
    "    return True"
   ]
  },
  {
   "cell_type": "code",
   "execution_count": 161,
   "id": "101ceac6-8d98-466b-95d3-df680dd49203",
   "metadata": {},
   "outputs": [
    {
     "data": {
      "text/plain": [
       "array([959, 678, 255, 612, 790, 298, 437,  53, 997, 870, 650, 660, 636,\n",
       "       360, 458, 440, 392, 870, 481, 552, 637, 805, 589, 223, 496,  30,\n",
       "       708, 116, 926, 725,  63,  84, 456, 380, 528,  92, 790, 379, 152,\n",
       "       848, 377, 734, 384, 391,  36,  14, 709, 825, 732, 566, 583, 819,\n",
       "       218, 151,  29, 343, 620, 648,  92, 572, 481, 173, 196, 585, 366,\n",
       "       676, 824, 504, 399, 925, 959, 560, 205, 123, 468, 752, 169, 698,\n",
       "       903,  99, 828, 665, 388,  40, 652, 416, 794, 321, 618, 506, 439,\n",
       "       325,   4, 755, 154, 735, 839, 737, 293, 685])"
      ]
     },
     "execution_count": 161,
     "metadata": {},
     "output_type": "execute_result"
    }
   ],
   "source": [
    "arr = np.random.randint(0, 1001, 100) # 0 to 1000 inclusive\n",
    "arr"
   ]
  },
  {
   "cell_type": "code",
   "execution_count": 163,
   "id": "9dd71911-17d7-47ad-80a9-123c5651f842",
   "metadata": {},
   "outputs": [
    {
     "data": {
      "text/plain": [
       "100"
      ]
     },
     "execution_count": 163,
     "metadata": {},
     "output_type": "execute_result"
    }
   ],
   "source": [
    "arr.size"
   ]
  },
  {
   "cell_type": "code",
   "execution_count": 169,
   "id": "f1e0c0cc-4013-4bc1-9e96-16763e3ba307",
   "metadata": {},
   "outputs": [],
   "source": [
    "# We can use np.vectorize to apply the is_prime function element-wise\n",
    "vectorized_is_prime = np.vectorize(is_prime)\n",
    "\n",
    "# Create a boolean mask where True indicates a prime number\n",
    "prime_mask = vectorized_is_prime(arr)\n",
    "\n",
    "# Use the boolean mask to filter the original array\n",
    "prime_numbers_in_array = arr[prime_mask]"
   ]
  },
  {
   "cell_type": "code",
   "execution_count": 170,
   "id": "ff85abaa-7360-4aa2-a75c-5e2c06ebea6c",
   "metadata": {},
   "outputs": [
    {
     "name": "stdout",
     "output_type": "stream",
     "text": [
      "\n",
      "Prime Numbers found in the array:\n",
      "[ 29  53 151 173 223 293 379 439 709 839 997]\n",
      "\n",
      "Total prime numbers found: 11\n"
     ]
    }
   ],
   "source": [
    "print(\"\\nPrime Numbers found in the array:\")\n",
    "if len(prime_numbers_in_array) > 0:\n",
    "    print(np.sort(prime_numbers_in_array)) # Display them sorted for better readability\n",
    "else:\n",
    "    print(\"No prime numbers found in the generated array.\")\n",
    "\n",
    "print(f\"\\nTotal prime numbers found: {len(prime_numbers_in_array)}\")"
   ]
  },
  {
   "cell_type": "markdown",
   "id": "2104defe-b87f-450a-913c-7a21286f0600",
   "metadata": {},
   "source": [
    "## 10. Create a NumPy array representing daily temperatures for a month. Calculate and display the weekly averages."
   ]
  },
  {
   "cell_type": "code",
   "execution_count": 171,
   "id": "519399ce-cbe9-4957-bb9d-ba43f013fb90",
   "metadata": {},
   "outputs": [
    {
     "name": "stdout",
     "output_type": "stream",
     "text": [
      "--- Daily Temperatures for the Month (28 days) ---\n",
      "[22.90432719 20.61589972 26.12367959 34.63671863 20.28844261 27.15215826\n",
      " 16.52472675 24.71137929 31.26430077 22.47197575 33.70887657 17.64448671\n",
      " 17.40881875 20.24691557 33.78226153 18.93552502 15.53170926 27.72833626\n",
      " 33.73535895 24.99494329 21.00181721 25.88952112 24.75209362 33.68176479\n",
      " 15.02575965 26.19548839 25.86467994 22.56279669]\n",
      "Total days: 28\n",
      "\n",
      "--- Daily Temperatures Reshaped by Week (4x7 matrix) ---\n",
      "[[22.90432719 20.61589972 26.12367959 34.63671863 20.28844261 27.15215826\n",
      "  16.52472675]\n",
      " [24.71137929 31.26430077 22.47197575 33.70887657 17.64448671 17.40881875\n",
      "  20.24691557]\n",
      " [33.78226153 18.93552502 15.53170926 27.72833626 33.73535895 24.99494329\n",
      "  21.00181721]\n",
      " [25.88952112 24.75209362 33.68176479 15.02575965 26.19548839 25.86467994\n",
      "  22.56279669]]\n",
      "\n",
      "--- Weekly Averages ---\n",
      "Week 1 Average Temperature: 24.04°C\n",
      "Week 2 Average Temperature: 23.92°C\n",
      "Week 3 Average Temperature: 25.10°C\n",
      "Week 4 Average Temperature: 24.85°C\n",
      "\n",
      "==================================================\n",
      "--- Handling Months with More Than 28 Days (e.g., 31 days) ---\n",
      "\n",
      "Daily Temperatures for 31 days:\n",
      "[22.11494645 19.99512036 16.1543779  21.47982951 29.0311218  27.30437989\n",
      " 18.08955274 31.12364211 17.94748142 22.6869731  20.80604504 32.542826\n",
      " 18.56023539 34.86188894 33.06945819 16.09340427 24.63768316 29.0477948\n",
      " 15.72792403 22.13427506 26.89607125 20.85786239 26.30225391 15.88485564\n",
      " 24.43794455 31.90057801 17.34353345 21.32149603 30.04173882 23.68741789\n",
      " 18.28995786]\n",
      "\n",
      "Number of full weeks: 4\n",
      "Number of remaining days: 3\n",
      "\n",
      "--- Averages for Full Weeks ---\n",
      "Week 1 Average Temperature: 22.02°C\n",
      "Week 2 Average Temperature: 25.50°C\n",
      "Week 3 Average Temperature: 23.94°C\n",
      "Week 4 Average Temperature: 22.58°C\n",
      "Average Temperature for remaining 3 days (partial week): 24.01°C\n",
      "\n",
      "--- Weekly Averages (Loop with Slicing for any month length) ---\n",
      "Week 1 Average Temperature: 22.02°C\n",
      "Week 2 Average Temperature: 25.50°C\n",
      "Week 3 Average Temperature: 23.94°C\n",
      "Week 4 Average Temperature: 22.58°C\n",
      "Week 5 Average Temperature: 24.01°C\n"
     ]
    }
   ],
   "source": [
    "# 1. Create a NumPy array representing daily temperatures for a month (e.g., 28 days)\n",
    "# Let's simulate temperatures between 15.0 and 35.0 degrees Celsius.\n",
    "# np.random.uniform(low, high, size) generates float values.\n",
    "daily_temperatures = np.random.uniform(low=15.0, high=35.0, size=28)\n",
    "\n",
    "print(\"--- Daily Temperatures for the Month (28 days) ---\")\n",
    "print(daily_temperatures)\n",
    "print(f\"Total days: {len(daily_temperatures)}\")\n",
    "\n",
    "# 2. Reshape the array to group temperatures by week\n",
    "# Since there are 28 days and 7 days in a week, we reshape to (4 weeks, 7 days/week)\n",
    "# This assumes the total number of days is a multiple of 7.\n",
    "temperatures_reshaped_by_week = daily_temperatures.reshape(4, 7)\n",
    "\n",
    "print(\"\\n--- Daily Temperatures Reshaped by Week (4x7 matrix) ---\")\n",
    "print(temperatures_reshaped_by_week)\n",
    "\n",
    "# 3. Calculate the weekly averages\n",
    "# We use np.mean() along axis=1 to get the average for each row (each week).\n",
    "weekly_averages = np.mean(temperatures_reshaped_by_week, axis=1)\n",
    "\n",
    "# For better readability, let's round the averages\n",
    "weekly_averages_rounded = np.round(weekly_averages, decimals=2)\n",
    "\n",
    "\n",
    "print(\"\\n--- Weekly Averages ---\")\n",
    "for i, avg in enumerate(weekly_averages_rounded):\n",
    "    print(f\"Week {i+1} Average Temperature: {avg:.2f}°C\")\n",
    "\n",
    "# --- Handling months with more than 28 days (e.g., 30 or 31 days) ---\n",
    "print(\"\\n\" + \"=\"*50)\n",
    "print(\"--- Handling Months with More Than 28 Days (e.g., 31 days) ---\")\n",
    "\n",
    "total_days_in_month = 31 # Example for a 31-day month\n",
    "daily_temperatures_31_days = np.random.uniform(low=15.0, high=35.0, size=total_days_in_month)\n",
    "print(f\"\\nDaily Temperatures for {total_days_in_month} days:\")\n",
    "print(daily_temperatures_31_days)\n",
    "\n",
    "# We can't simply reshape if it's not a perfect multiple of 7.\n",
    "# One common approach is to pad the array or calculate for full weeks and then handle remaining days.\n",
    "\n",
    "# Method 1: Calculate averages for full weeks and then for remaining days\n",
    "num_full_weeks = total_days_in_month // 7\n",
    "remaining_days = total_days_in_month % 7\n",
    "\n",
    "print(f\"\\nNumber of full weeks: {num_full_weeks}\")\n",
    "print(f\"Number of remaining days: {remaining_days}\")\n",
    "\n",
    "# Averages for full weeks\n",
    "full_weeks_temps = daily_temperatures_31_days[:num_full_weeks * 7].reshape(num_full_weeks, 7)\n",
    "full_weeks_averages = np.mean(full_weeks_temps, axis=1)\n",
    "\n",
    "print(\"\\n--- Averages for Full Weeks ---\")\n",
    "for i, avg in enumerate(np.round(full_weeks_averages, 2)):\n",
    "    print(f\"Week {i+1} Average Temperature: {avg:.2f}°C\")\n",
    "\n",
    "# Average for remaining days (if any)\n",
    "if remaining_days > 0:\n",
    "    remaining_temps = daily_temperatures_31_days[num_full_weeks * 7:]\n",
    "    avg_remaining = np.mean(remaining_temps)\n",
    "    print(f\"Average Temperature for remaining {remaining_days} days (partial week): {avg_remaining:.2f}°C\")\n",
    "else:\n",
    "    print(\"No remaining days to average.\")\n",
    "\n",
    "# Method 2: Using a loop with slicing (more flexible for non-exact weeks)\n",
    "print(\"\\n--- Weekly Averages (Loop with Slicing for any month length) ---\")\n",
    "weekly_averages_flexible = []\n",
    "for i in range(0, total_days_in_month, 7):\n",
    "    week_data = daily_temperatures_31_days[i : i+7]\n",
    "    weekly_averages_flexible.append(np.mean(week_data))\n",
    "\n",
    "for i, avg in enumerate(np.round(weekly_averages_flexible, 2)):\n",
    "    print(f\"Week {i+1} Average Temperature: {avg:.2f}°C\")"
   ]
  }
 ],
 "metadata": {
  "kernelspec": {
   "display_name": "Python 3 (ipykernel)",
   "language": "python",
   "name": "python3"
  },
  "language_info": {
   "codemirror_mode": {
    "name": "ipython",
    "version": 3
   },
   "file_extension": ".py",
   "mimetype": "text/x-python",
   "name": "python",
   "nbconvert_exporter": "python",
   "pygments_lexer": "ipython3",
   "version": "3.12.3"
  }
 },
 "nbformat": 4,
 "nbformat_minor": 5
}
